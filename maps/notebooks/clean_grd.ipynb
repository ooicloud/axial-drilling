{
 "cells": [
  {
   "cell_type": "markdown",
   "metadata": {},
   "source": [
    "# Clean GRD Files\n",
    "This notebook has code to clean and combine the original MBARI bathy data."
   ]
  },
  {
   "cell_type": "code",
   "execution_count": null,
   "metadata": {},
   "outputs": [],
   "source": [
    "import os\n",
    "import pygmt"
   ]
  },
  {
   "cell_type": "code",
   "execution_count": null,
   "metadata": {},
   "outputs": [],
   "source": [
    "# clip bad values\n",
    "data_dir = '/home/jovyan/github/ooicloud/axial-drilling/maps/data/'\n",
    "\n",
    "infile = 'axial_auv_mbari09and11n_gcs_1m_v3.grd'\n",
    "tmpfile1 = 'tmp1.grd'\n",
    "cmd = ('gmt grdclip %s%s -G%s%s -Sb-1600/NaN -Sa1500/NaN' % (data_dir, infile, data_dir, tmpfile1))\n",
    "os.system(cmd);\n",
    "\n",
    "infile = 'axial_auv_mbari09and11c_gcs_1m_v3.grd'\n",
    "tmpfile2 = 'tmp2.grd'\n",
    "cmd = ('gmt grdclip %s%s -G%s%s -Sb-1600/NaN -Sa1500/NaN' % (data_dir, infile, data_dir, tmpfile2))\n",
    "os.system(cmd);\n",
    "\n",
    "infile = 'axial_auv_mbari09and11s_gcs_1m_v3.grd'\n",
    "tmpfile3 = 'tmp3.grd'\n",
    "cmd = ('gmt grdclip %s%s -G%s%s -Sb-1600/NaN -Sa1500/NaN' % (data_dir, infile, data_dir, tmpfile3))\n",
    "os.system(cmd);"
   ]
  },
  {
   "cell_type": "code",
   "execution_count": null,
   "metadata": {},
   "outputs": [],
   "source": [
    "# blend GRD files\n",
    "tmpfile4 = 'tmp4.grd'\n",
    "cmd = ('gmt grdblend %s%s %s%s -G%s%s' % (data_dir, tmpfile1, data_dir, tmpfile2, data_dir, tmpfile4))\n",
    "os.system(cmd);\n",
    "\n",
    "tmpfile5 = 'tmp5.grd'\n",
    "cmd = ('gmt grdblend %s%s %s%s -G%s%s' % (data_dir, tmpfile4, data_dir, tmpfile3, data_dir, tmpfile5))\n",
    "os.system(cmd);"
   ]
  },
  {
   "cell_type": "code",
   "execution_count": null,
   "metadata": {},
   "outputs": [],
   "source": [
    "# crop region\n",
    "bathy_grd = 'axial_auv_mbari09and11_clean_gcs_1m_v3.grd'\n",
    "cmd = ('gmt grdcut %s%s -G%s%s -R%0.8f/%0.8f/%0.8f/%0.8f' % (data_dir, tmpfile5, data_dir, bathy_grd, -130-3.75/60, -129-57/60, 45+54/60, 46))\n",
    "os.system(cmd);"
   ]
  },
  {
   "cell_type": "code",
   "execution_count": null,
   "metadata": {},
   "outputs": [],
   "source": [
    "# clean up\n",
    "os.system('rm %s%s' % (data_dir, tmpfile1));\n",
    "os.system('rm %s%s' % (data_dir, tmpfile2));\n",
    "os.system('rm %s%s' % (data_dir, tmpfile3));\n",
    "os.system('rm %s%s' % (data_dir, tmpfile4));\n",
    "os.system('rm %s%s' % (data_dir, tmpfile5));\n",
    "os.system('rm %s%s' % (data_dir, tmpfile1));\n",
    "os.system('rm %s%s' % (data_dir, tmpfile1));"
   ]
  }
 ],
 "metadata": {
  "kernelspec": {
   "display_name": "Python 3",
   "language": "python",
   "name": "python3"
  },
  "language_info": {
   "codemirror_mode": {
    "name": "ipython",
    "version": 3
   },
   "file_extension": ".py",
   "mimetype": "text/x-python",
   "name": "python",
   "nbconvert_exporter": "python",
   "pygments_lexer": "ipython3",
   "version": "3.7.6"
  }
 },
 "nbformat": 4,
 "nbformat_minor": 4
}
