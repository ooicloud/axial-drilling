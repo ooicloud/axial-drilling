{
 "cells": [
  {
   "cell_type": "markdown",
   "metadata": {},
   "source": [
    "# Plot Mag and Gravity Data\n",
    "This notebook parses and plots the mag and gravity data file"
   ]
  },
  {
   "cell_type": "code",
   "execution_count": null,
   "metadata": {},
   "outputs": [],
   "source": [
    "import pandas as pd\n",
    "import xarray as xr\n",
    "xr.set_options(display_style='html');"
   ]
  },
  {
   "cell_type": "markdown",
   "metadata": {},
   "source": [
    "## Load mag and gravity data"
   ]
  },
  {
   "cell_type": "code",
   "execution_count": null,
   "metadata": {},
   "outputs": [],
   "source": [
    "data_dir = '../data/'\n",
    "filename = 'EW9904_sub.a77'"
   ]
  },
  {
   "cell_type": "code",
   "execution_count": null,
   "metadata": {},
   "outputs": [],
   "source": [
    "rows = []\n",
    "with open(data_dir + filename, 'r') as f:\n",
    "    for line in f:\n",
    "        rows.append([float(line.strip()[28:35])/100000,\n",
    "                     -float(line.strip()[36:44])/100000,\n",
    "                     float(line.strip()[51:57])/10,\n",
    "                     float(line.strip()[60:66]),\n",
    "                    float(line.strip()[72:78]),\n",
    "                    float(line.strip()[103:108])])\n",
    "mag = pd.DataFrame(rows, columns=['lat', 'lon', 'depth', 'mag', 'residual', 'freeair'])\n",
    "mag.describe()"
   ]
  },
  {
   "cell_type": "markdown",
   "metadata": {},
   "source": [
    "## Load bathy"
   ]
  },
  {
   "cell_type": "code",
   "execution_count": null,
   "metadata": {},
   "outputs": [],
   "source": [
    "bathy = xr.open_zarr(data_dir + 'bathy.zarr')\n",
    "bathy"
   ]
  },
  {
   "cell_type": "markdown",
   "metadata": {},
   "source": [
    "## Plot data using Holoviews"
   ]
  },
  {
   "cell_type": "code",
   "execution_count": null,
   "metadata": {},
   "outputs": [],
   "source": [
    "import hvplot.pandas\n",
    "import hvplot.xarray\n",
    "import holoviews as hv"
   ]
  },
  {
   "cell_type": "code",
   "execution_count": null,
   "metadata": {},
   "outputs": [],
   "source": [
    "plot_opts = {'x': 'lon', 'y': 'lat', 'geo': True, 'hover': False, 'frame_height': 400, 'frame_width': 600}"
   ]
  },
  {
   "cell_type": "code",
   "execution_count": null,
   "metadata": {},
   "outputs": [],
   "source": [
    "bathy.depth[0::100].hvplot.image(**plot_opts) \\\n",
    " * mag.hvplot.points(**plot_opts, c='freeair', s=10)"
   ]
  },
  {
   "cell_type": "code",
   "execution_count": null,
   "metadata": {},
   "outputs": [],
   "source": [
    "mag.hvplot.points(**plot_opts, c='freeair', s=10).opts(clim=(-200,600))"
   ]
  },
  {
   "cell_type": "code",
   "execution_count": null,
   "metadata": {},
   "outputs": [],
   "source": [
    "mag.hvplot.points(**plot_opts, c='mag', s=10).opts(clim=(9e5,11e5))"
   ]
  },
  {
   "cell_type": "code",
   "execution_count": null,
   "metadata": {},
   "outputs": [],
   "source": [
    "mag.hvplot.hist(y='mag', bins=10000, bin_range=(1e5, 20e5))"
   ]
  },
  {
   "cell_type": "code",
   "execution_count": null,
   "metadata": {},
   "outputs": [],
   "source": [
    "mag.hvplot.hist(y='freeair', bins=100, bin_range=(-200, 800))"
   ]
  }
 ],
 "metadata": {
  "kernelspec": {
   "display_name": "Python 3",
   "language": "python",
   "name": "python3"
  },
  "language_info": {
   "codemirror_mode": {
    "name": "ipython",
    "version": 3
   },
   "file_extension": ".py",
   "mimetype": "text/x-python",
   "name": "python",
   "nbconvert_exporter": "python",
   "pygments_lexer": "ipython3",
   "version": "3.8.6"
  },
  "widgets": {
   "application/vnd.jupyter.widget-state+json": {
    "state": {},
    "version_major": 2,
    "version_minor": 0
   }
  }
 },
 "nbformat": 4,
 "nbformat_minor": 4
}
