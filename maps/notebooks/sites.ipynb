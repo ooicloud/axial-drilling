{
 "cells": [
  {
   "cell_type": "markdown",
   "metadata": {},
   "source": [
    "# Axial Drilling Site Figures\n",
    "Site figures for the Axial Drilling Proposal."
   ]
  },
  {
   "cell_type": "markdown",
   "metadata": {},
   "source": [
    "---\n",
    "## Install Some Packages\n",
    "These should be installed into a Conda environment soon."
   ]
  },
  {
   "cell_type": "code",
   "execution_count": null,
   "metadata": {},
   "outputs": [],
   "source": [
    "!conda install -qy gmt=6.1.1"
   ]
  },
  {
   "cell_type": "code",
   "execution_count": null,
   "metadata": {},
   "outputs": [],
   "source": [
    "!pip install git+https://github.com/GenericMappingTools/pygmt.git@c6f154b9916eb96e0be14740ce8b8b79c49e10f2"
   ]
  },
  {
   "cell_type": "markdown",
   "metadata": {},
   "source": [
    "---\n",
    "## Load Data as Globals"
   ]
  },
  {
   "cell_type": "code",
   "execution_count": 1,
   "metadata": {},
   "outputs": [],
   "source": [
    "import numpy as np\n",
    "import pandas as pd\n",
    "import xarray as xr\n",
    "import os\n",
    "import pygmt"
   ]
  },
  {
   "cell_type": "code",
   "execution_count": 2,
   "metadata": {},
   "outputs": [],
   "source": [
    "data_dir = '../data/'\n",
    "output_dir = '../output/'\n",
    "bathy_grd = 'AxialSummit_MAUV_and_Topo1mSq.grd'"
   ]
  },
  {
   "cell_type": "code",
   "execution_count": 9,
   "metadata": {},
   "outputs": [],
   "source": [
    "holes_df = pd.read_json(data_dir + 'holes.json', orient=\"records\", lines=True)\n",
    "spiral_df = pd.read_json(data_dir + 'spiral.json', orient=\"records\", lines=True)\n",
    "jason_df = pd.read_json(data_dir + 'jason.json', orient=\"records\", lines=True)\n",
    "lava_2011_df = pd.read_json(data_dir + 'lava_2011.json', orient=\"records\", lines=True)\n",
    "lava_1998_df = pd.read_json(data_dir + 'lava_1998.json', orient=\"records\", lines=True)\n",
    "ooi_cables_df = pd.read_json(data_dir + 'ooi_cables.json', orient=\"records\", lines=True)\n",
    "ooi_df = pd.read_json(data_dir + 'ooi.json', orient=\"records\", lines=True)\n",
    "international_df = pd.read_json(data_dir + 'international.json', orient=\"records\", lines=True)\n",
    "vents_df = pd.read_json(data_dir + 'vents.json', orient=\"records\", lines=True)"
   ]
  },
  {
   "cell_type": "code",
   "execution_count": 10,
   "metadata": {},
   "outputs": [],
   "source": [
    "bathy_ds = xr.open_zarr(data_dir + 'bathy.zarr')\n",
    "thickness_ds = xr.open_zarr(data_dir + 'thickness.zarr')\n",
    "thickness_interp_ds = xr.open_zarr(data_dir + 'thickness_interp.zarr')"
   ]
  },
  {
   "cell_type": "markdown",
   "metadata": {},
   "source": [
    "---\n",
    "## Drop Sites\n",
    "Here we drop sites 5A and 9A that are no longer used."
   ]
  },
  {
   "cell_type": "code",
   "execution_count": 12,
   "metadata": {},
   "outputs": [
    {
     "data": {
      "text/html": [
       "<div>\n",
       "<style scoped>\n",
       "    .dataframe tbody tr th:only-of-type {\n",
       "        vertical-align: middle;\n",
       "    }\n",
       "\n",
       "    .dataframe tbody tr th {\n",
       "        vertical-align: top;\n",
       "    }\n",
       "\n",
       "    .dataframe thead th {\n",
       "        text-align: right;\n",
       "    }\n",
       "</style>\n",
       "<table border=\"1\" class=\"dataframe\">\n",
       "  <thead>\n",
       "    <tr style=\"text-align: right;\">\n",
       "      <th></th>\n",
       "      <th>name</th>\n",
       "      <th>lat</th>\n",
       "      <th>lon</th>\n",
       "      <th>depth</th>\n",
       "      <th>thickness</th>\n",
       "      <th>d_1</th>\n",
       "      <th>d_2</th>\n",
       "      <th>d_3</th>\n",
       "      <th>d_4</th>\n",
       "      <th>d_5</th>\n",
       "      <th>d_6</th>\n",
       "      <th>d_7</th>\n",
       "      <th>d_8</th>\n",
       "      <th>d_9</th>\n",
       "    </tr>\n",
       "  </thead>\n",
       "  <tbody>\n",
       "    <tr>\n",
       "      <th>0</th>\n",
       "      <td>AXIAL-01B</td>\n",
       "      <td>45.925800</td>\n",
       "      <td>-129.978800</td>\n",
       "      <td>-1520</td>\n",
       "      <td>703</td>\n",
       "      <td>0</td>\n",
       "      <td>213</td>\n",
       "      <td>421</td>\n",
       "      <td>704</td>\n",
       "      <td>1388</td>\n",
       "      <td>920</td>\n",
       "      <td>1204</td>\n",
       "      <td>500</td>\n",
       "      <td>1888</td>\n",
       "    </tr>\n",
       "    <tr>\n",
       "      <th>1</th>\n",
       "      <td>AXIAL-02B</td>\n",
       "      <td>45.923931</td>\n",
       "      <td>-129.978170</td>\n",
       "      <td>-1523</td>\n",
       "      <td>643</td>\n",
       "      <td>213</td>\n",
       "      <td>0</td>\n",
       "      <td>325</td>\n",
       "      <td>491</td>\n",
       "      <td>1259</td>\n",
       "      <td>798</td>\n",
       "      <td>990</td>\n",
       "      <td>497</td>\n",
       "      <td>1756</td>\n",
       "    </tr>\n",
       "    <tr>\n",
       "      <th>2</th>\n",
       "      <td>AXIAL-03B</td>\n",
       "      <td>45.924054</td>\n",
       "      <td>-129.973988</td>\n",
       "      <td>-1530</td>\n",
       "      <td>604</td>\n",
       "      <td>421</td>\n",
       "      <td>325</td>\n",
       "      <td>0</td>\n",
       "      <td>535</td>\n",
       "      <td>967</td>\n",
       "      <td>500</td>\n",
       "      <td>983</td>\n",
       "      <td>232</td>\n",
       "      <td>1467</td>\n",
       "    </tr>\n",
       "    <tr>\n",
       "      <th>3</th>\n",
       "      <td>AXIAL-04B</td>\n",
       "      <td>45.919632</td>\n",
       "      <td>-129.976727</td>\n",
       "      <td>-1533</td>\n",
       "      <td>560</td>\n",
       "      <td>704</td>\n",
       "      <td>491</td>\n",
       "      <td>535</td>\n",
       "      <td>0</td>\n",
       "      <td>1071</td>\n",
       "      <td>706</td>\n",
       "      <td>500</td>\n",
       "      <td>765</td>\n",
       "      <td>1525</td>\n",
       "    </tr>\n",
       "    <tr>\n",
       "      <th>4</th>\n",
       "      <td>AXIAL-06A</td>\n",
       "      <td>45.921980</td>\n",
       "      <td>-129.968270</td>\n",
       "      <td>-1543</td>\n",
       "      <td>547</td>\n",
       "      <td>920</td>\n",
       "      <td>798</td>\n",
       "      <td>500</td>\n",
       "      <td>706</td>\n",
       "      <td>468</td>\n",
       "      <td>0</td>\n",
       "      <td>924</td>\n",
       "      <td>529</td>\n",
       "      <td>967</td>\n",
       "    </tr>\n",
       "    <tr>\n",
       "      <th>5</th>\n",
       "      <td>AXIAL-07A</td>\n",
       "      <td>45.915250</td>\n",
       "      <td>-129.975270</td>\n",
       "      <td>-1545</td>\n",
       "      <td>577</td>\n",
       "      <td>1204</td>\n",
       "      <td>990</td>\n",
       "      <td>983</td>\n",
       "      <td>500</td>\n",
       "      <td>1095</td>\n",
       "      <td>924</td>\n",
       "      <td>0</td>\n",
       "      <td>1194</td>\n",
       "      <td>1432</td>\n",
       "    </tr>\n",
       "    <tr>\n",
       "      <th>6</th>\n",
       "      <td>AXIAL-08A</td>\n",
       "      <td>45.925800</td>\n",
       "      <td>-129.972350</td>\n",
       "      <td>-1533</td>\n",
       "      <td>610</td>\n",
       "      <td>500</td>\n",
       "      <td>497</td>\n",
       "      <td>232</td>\n",
       "      <td>765</td>\n",
       "      <td>972</td>\n",
       "      <td>529</td>\n",
       "      <td>1194</td>\n",
       "      <td>0</td>\n",
       "      <td>1462</td>\n",
       "    </tr>\n",
       "  </tbody>\n",
       "</table>\n",
       "</div>"
      ],
      "text/plain": [
       "        name        lat         lon  depth  thickness   d_1  d_2  d_3  d_4  \\\n",
       "0  AXIAL-01B  45.925800 -129.978800  -1520        703     0  213  421  704   \n",
       "1  AXIAL-02B  45.923931 -129.978170  -1523        643   213    0  325  491   \n",
       "2  AXIAL-03B  45.924054 -129.973988  -1530        604   421  325    0  535   \n",
       "3  AXIAL-04B  45.919632 -129.976727  -1533        560   704  491  535    0   \n",
       "4  AXIAL-06A  45.921980 -129.968270  -1543        547   920  798  500  706   \n",
       "5  AXIAL-07A  45.915250 -129.975270  -1545        577  1204  990  983  500   \n",
       "6  AXIAL-08A  45.925800 -129.972350  -1533        610   500  497  232  765   \n",
       "\n",
       "    d_5  d_6   d_7   d_8   d_9  \n",
       "0  1388  920  1204   500  1888  \n",
       "1  1259  798   990   497  1756  \n",
       "2   967  500   983   232  1467  \n",
       "3  1071  706   500   765  1525  \n",
       "4   468    0   924   529   967  \n",
       "5  1095  924     0  1194  1432  \n",
       "6   972  529  1194     0  1462  "
      ]
     },
     "execution_count": 12,
     "metadata": {},
     "output_type": "execute_result"
    }
   ],
   "source": [
    "holes_df = holes_df.drop([4, 8]).reset_index(drop=True)\n",
    "holes_df"
   ]
  },
  {
   "cell_type": "markdown",
   "metadata": {},
   "source": [
    "---\n",
    "## Figure Function"
   ]
  },
  {
   "cell_type": "code",
   "execution_count": null,
   "metadata": {},
   "outputs": [],
   "source": [
    "def sitefig():\n",
    "    \n",
    "    # calculate mid-points used in the Mercator projection for the central meridian and standard parallel\n",
    "    NS = (N-S)*0.5+S\n",
    "    EW = (W-E)*0.5+E\n",
    "    \n",
    "    # start new figure\n",
    "    fig = pygmt.Figure()\n",
    "\n",
    "    # update shading\n",
    "    cmd = 'gmt grdgradient %s%s -Gshading.grd -R/%f/%f/%f/%f -A45 -Ne1' % (data_dir, bathy_grd, W, E, S, N)\n",
    "    os.system(cmd);\n",
    "    \n",
    "    # bathy image\n",
    "    fig.grdimage('%s%s' % (data_dir, bathy_grd), region=[W, E, S, N], projection='M%s/%s/6i' % (EW, NS),\n",
    "             shading='shading.grd', cmap='sites.cpt', Q='')\n",
    "    \n",
    "    # jason events\n",
    "    jason_color = 'aliceblue'\n",
    "    if plot_jason:\n",
    "        fig.plot(jason_df.lon, jason_df.lat, style='c0.014i', color=jason_color, pen='0p,black@100')\n",
    "\n",
    "    # lava outlines\n",
    "    color_1998 = 'blue'\n",
    "    thickness_1998 = '1.5p'\n",
    "    for name, group in lava_1998_df.groupby('area'):\n",
    "        fig.plot(group.lon.values, group.lat.values, W='%s,%s' % (thickness_1998, color_1998))\n",
    "    color_2011 = 'cyan'\n",
    "    thickness_2011 = '1.5p'\n",
    "    for name, group in lava_2011_df.groupby('area'):\n",
    "        fig.plot(group.lon.values, group.lat.values, W='%s,%s' % (thickness_2011, color_2011))\n",
    "\n",
    "    # cables\n",
    "    cable_color = 'black'\n",
    "    cable_thickness = '2p'\n",
    "    for cable in ooi_cables_df.name.unique():\n",
    "        cable_df = ooi_cables_df.loc[ooi_cables_df.name == cable]\n",
    "        fig.plot(cable_df.lon.values, cable_df.lat.values, W='%s,%s' % (cable_thickness, cable_color))\n",
    "    \n",
    "    for transect in transects:\n",
    "        fig.plot(transect[0], transect[1], W=transect[2])\n",
    "\n",
    "    # international district\n",
    "    id_color = 'white'\n",
    "    fig.plot(-129.9795, 45.9264, style='a0.2i', color='%s' % id_color, pen='0.5p,black')\n",
    "    \n",
    "    # primary sites\n",
    "    for i in primary:\n",
    "        fig.plot(holes_df.iloc[i].lon, holes_df.iloc[i].lat, style='c0.1i', color='yellow', pen='1p,black')\n",
    "\n",
    "    # alternate sites\n",
    "    for i in alternate:\n",
    "        fig.plot(holes_df.iloc[i].lon, holes_df.iloc[i].lat, style='c0.1i', color='darkgrey', pen='1p,black') \n",
    "\n",
    "    # site label offsets\n",
    "    label_dx = 0.54\n",
    "    label_dy = 0.25\n",
    "    label_offsets = [\n",
    "        (-label_dx, -label_dy),\n",
    "        (label_dx, -label_dy),\n",
    "        (label_dx, label_dy*0.75),\n",
    "        (label_dx, -label_dy),\n",
    "        (-label_dx, -label_dy),\n",
    "        (-label_dx, -label_dy),\n",
    "        (label_dx, label_dy),\n",
    "        (label_dx, label_dy),\n",
    "        (-label_dx, -label_dy),]\n",
    "\n",
    "    # site labels\n",
    "    for i in primary + alternate:\n",
    "        fig.text(x = holes_df.iloc[i].lon, y = holes_df.iloc[i].lat, text = holes_df.iloc[i]['name'], D='%fi/%fi+v1p' % label_offsets[i],\n",
    "            font='9p,Helvetica-Bold,black', C='3p/3p+tO', G='lightgrey', W='1p,black')\n",
    "\n",
    "    # scale bar\n",
    "    dx = W + 129.988\n",
    "    dy = S - 45.912\n",
    "    transparency = 50 # higher is more transparent\n",
    "    pygmt.config(FONT_ANNOT_PRIMARY='7p,Helvetica')\n",
    "    fig.legend('blank_legend.txt', position='x4.645i/0.495i/2.52i/0.38i', F='+gwhite@%i+p0.3p,black' % transparency)\n",
    "    fig.basemap(L='fx4.6i/0.4i/%s/1000e' % NS)\n",
    "    fig.text(x = -129.9604+dx, y = 45.91288+dy, text='Distance (m)', font='7p,Helvetica')\n",
    "    \n",
    "    # legend\n",
    "    # S [dx1 symbol size fill pen [ dx2 text ]]\n",
    "    legend_shift = 0\n",
    "    if plot_jason:\n",
    "        legend_shift = 0.15\n",
    "    pygmt.config(FONT_ANNOT_PRIMARY='7p,Helvetica')\n",
    "    with open('legend.txt', 'w') as f:\n",
    "        f.write('S 0.12i c 0.1i yellow 1p,black 0.3i Primary Site\\n')\n",
    "        f.write('G 0.05i\\n')\n",
    "        f.write('S 0.12i c 0.1i darkgrey 1p,black 0.3i Alternate Site\\n')\n",
    "        f.write('G 0.05i\\n')\n",
    "        f.write('S 0.12i a 0.14i %s 0.5p,black 0.3i International District\\n' % id_color)\n",
    "        f.write('G 0.05i\\n')\n",
    "        if plot_jason:\n",
    "            f.write('S 0.12i c 0.03i %s - 0.3i Jason Imagery\\n' % jason_color)\n",
    "            f.write('G 0.05i\\n')\n",
    "        \n",
    "        f.write('S 0.12i - 0.2i - %s,%s 0.3i OOI Cables\\n' % (cable_thickness, cable_color))    \n",
    "        f.write('G 0.05i\\n')\n",
    "        f.write('S 0.12i - 0.2i - %s,%s 0.3i 1998 Eruption\\n' % (thickness_1998, color_1998))\n",
    "        f.write('G 0.05i\\n')\n",
    "        f.write('S 0.12i - 0.2i - %s,%s 0.3i 2011 Eruption\\n' % (thickness_2011, color_2011))  \n",
    "    \n",
    "    fig.legend('legend.txt', position='x5.2i/4.65i/1.31i/%si' % str(2.15+legend_shift), F='+gwhite@%i+p0.3p,black' % transparency)\n",
    "    \n",
    "    # colorbar\n",
    "    text_shift = 0\n",
    "    if plot_jason:\n",
    "        text_shift = 0.00065\n",
    "    pygmt.config(MAP_FRAME_PEN='0.5p', MAP_TICK_LENGTH_PRIMARY='0.03i')\n",
    "    fig.colorbar(D='x4.616i/%si/-1i/0.2i' % str(3.088-legend_shift), C='sites.cpt', W=-1, B='p20')\n",
    "    fig.text(x = -129.9565+dx, y = 45.9249+dy-text_shift, text='Depth (m)', angle=90)\n",
    "    \n",
    "    # frame and north arrow\n",
    "    pygmt.config(FONT_ANNOT_PRIMARY='9p,Helvetica')\n",
    "    pygmt.config(FONT_TITLE='9p,Helvetica')\n",
    "    fig.basemap(frame='a0.004d', Td='jTR+o0.02i/%si+w2c+l' % str(1.36 + legend_shift))\n",
    "        \n",
    "    return fig"
   ]
  },
  {
   "cell_type": "markdown",
   "metadata": {},
   "source": [
    "---\n",
    "## All Sites"
   ]
  },
  {
   "cell_type": "code",
   "execution_count": null,
   "metadata": {},
   "outputs": [],
   "source": [
    "pygmt.config(MAP_SCALE_HEIGHT='0.1i', MAP_FRAME_WIDTH='0.05i', FORMAT_GEO_MAP='D.xxx',\n",
    "            FONT_ANNOT_PRIMARY='9p,Helvetica', FONT_ANNOT_SECONDARY='10p',\n",
    "            FONT_LABEL='9p,Helvetica-Bold',\n",
    "            MAP_FRAME_AXES='WeSn', PS_LINE_JOIN='round');"
   ]
  },
  {
   "cell_type": "code",
   "execution_count": null,
   "metadata": {},
   "outputs": [],
   "source": [
    "cmd = 'gmt grd2cpt %s%s -L-1600/-1500 -T-1600/-1500/10 > sites.cpt' % (data_dir, bathy_grd)\n",
    "print(cmd)\n",
    "os.system(cmd);"
   ]
  },
  {
   "cell_type": "code",
   "execution_count": null,
   "metadata": {},
   "outputs": [],
   "source": [
    "N = 45.932\n",
    "S = 45.912\n",
    "E = -129.952\n",
    "W = -129.988\n",
    "transects = [[np.append(holes_df[holes_df['name']=='AXIAL-01B'].lon.values, -129.97485),\n",
    "         np.append(holes_df[holes_df['name']=='AXIAL-01B'].lat.values, 45.914), '1.5p,black,4_4'],\n",
    "         [np.append(holes_df[holes_df['name']=='AXIAL-01B'].lon.values, -129.9553),\n",
    "         np.append(holes_df[holes_df['name']=='AXIAL-01B'].lat.values, 45.91726), '1.5p,black,4_4']]\n",
    "\n",
    "primary = [0, 1, 2, 3]\n",
    "alternate = [4, 5, 6]\n",
    "\n",
    "plot_jason = False\n",
    "\n",
    "fig = sitefig()\n",
    "fig.show(width=700)"
   ]
  },
  {
   "cell_type": "code",
   "execution_count": null,
   "metadata": {},
   "outputs": [],
   "source": [
    "#fig.savefig(output_dir + 'all_sites_drop.pdf')\n",
    "fig.savefig(output_dir + 'all_sites_drop.png', transparent=True, dpi=400)"
   ]
  },
  {
   "cell_type": "markdown",
   "metadata": {},
   "source": [
    "---\n",
    "## Site 01"
   ]
  },
  {
   "cell_type": "code",
   "execution_count": null,
   "metadata": {},
   "outputs": [],
   "source": [
    "dx = -0.004\n",
    "dy = 0.004\n",
    "\n",
    "N = 45.932+dy\n",
    "S = 45.912+dy\n",
    "E = -129.952+dx\n",
    "W = -129.988+dx\n",
    "\n",
    "lat = holes_df[holes_df['name']=='AXIAL-01B'].lat.values\n",
    "transects = [[np.append(-129.983, -129.968), np.append(lat, lat), '1p,black,4_4']]\n",
    "\n",
    "primary = [0]\n",
    "alternate = [6]\n",
    "\n",
    "plot_jason = True\n",
    "\n",
    "fig = sitefig()\n",
    "fig.show(width=700)"
   ]
  },
  {
   "cell_type": "code",
   "execution_count": null,
   "metadata": {},
   "outputs": [],
   "source": [
    "#fig.savefig(output_dir + 'site01.pdf')\n",
    "fig.savefig(output_dir + 'site01.png', transparent=True, dpi=400)"
   ]
  },
  {
   "cell_type": "markdown",
   "metadata": {},
   "source": [
    "---\n",
    "## Site 02"
   ]
  },
  {
   "cell_type": "code",
   "execution_count": null,
   "metadata": {},
   "outputs": [],
   "source": [
    "dx = -0.008\n",
    "dy = 0.002\n",
    "\n",
    "N = 45.932+dy\n",
    "S = 45.912+dy\n",
    "E = -129.952+dx\n",
    "W = -129.988+dx\n",
    "\n",
    "transects = [[np.append(holes_df[holes_df['name']=='AXIAL-01B'].lon.values, -129.97485),\n",
    "         np.append(holes_df[holes_df['name']=='AXIAL-01B'].lat.values, 45.914), '1p,black,4_4']]\n",
    "\n",
    "primary = [1]\n",
    "alternate = []\n",
    "\n",
    "fig = sitefig()\n",
    "fig.show(width=700)"
   ]
  },
  {
   "cell_type": "code",
   "execution_count": null,
   "metadata": {},
   "outputs": [],
   "source": [
    "#fig.savefig(output_dir + 'site02.pdf')\n",
    "fig.savefig(output_dir + 'site02.png', transparent=True, dpi=400)"
   ]
  },
  {
   "cell_type": "markdown",
   "metadata": {},
   "source": [
    "---\n",
    "## Site 03"
   ]
  },
  {
   "cell_type": "code",
   "execution_count": null,
   "metadata": {},
   "outputs": [],
   "source": [
    "dx = 0\n",
    "dy = 0\n",
    "\n",
    "N = 45.932+dy\n",
    "S = 45.912+dy\n",
    "E = -129.952+dx\n",
    "W = -129.988+dx\n",
    "\n",
    "transects = [[np.append(holes_df[holes_df['name']=='AXIAL-01B'].lon.values, -129.9553),\n",
    "         np.append(holes_df[holes_df['name']=='AXIAL-01B'].lat.values, 45.91726), '1p,black,4_4']]\n",
    "\n",
    "primary = [2]\n",
    "alternate = [4]\n",
    "\n",
    "fig = sitefig()\n",
    "fig.show(width=700)"
   ]
  },
  {
   "cell_type": "code",
   "execution_count": null,
   "metadata": {},
   "outputs": [],
   "source": [
    "#fig.savefig(output_dir + 'site03.pdf')\n",
    "fig.savefig(output_dir + 'site03.png', transparent=True, dpi=400)"
   ]
  },
  {
   "cell_type": "markdown",
   "metadata": {},
   "source": [
    "---\n",
    "## Site 04"
   ]
  },
  {
   "cell_type": "code",
   "execution_count": null,
   "metadata": {},
   "outputs": [],
   "source": [
    "dx = -0.004\n",
    "dy = -0.004\n",
    "\n",
    "N = 45.932+dy\n",
    "S = 45.912+dy\n",
    "E = -129.952+dx\n",
    "W = -129.988+dx\n",
    "\n",
    "transects = [[np.append(holes_df[holes_df['name']=='AXIAL-01B'].lon.values, -129.97485),\n",
    "         np.append(holes_df[holes_df['name']=='AXIAL-01B'].lat.values, 45.914), '1p,black,4_4']]\n",
    "\n",
    "primary = [3]\n",
    "alternate = [5]\n",
    "\n",
    "fig = sitefig()\n",
    "fig.show(width=700)"
   ]
  },
  {
   "cell_type": "code",
   "execution_count": null,
   "metadata": {},
   "outputs": [],
   "source": [
    "#fig.savefig(output_dir + 'site04.pdf')\n",
    "fig.savefig(output_dir + 'site04.png', transparent=True, dpi=400)"
   ]
  }
 ],
 "metadata": {
  "kernelspec": {
   "display_name": "Python 3",
   "language": "python",
   "name": "python3"
  },
  "language_info": {
   "codemirror_mode": {
    "name": "ipython",
    "version": 3
   },
   "file_extension": ".py",
   "mimetype": "text/x-python",
   "name": "python",
   "nbconvert_exporter": "python",
   "pygments_lexer": "ipython3",
   "version": "3.8.6"
  },
  "widgets": {
   "application/vnd.jupyter.widget-state+json": {
    "state": {},
    "version_major": 2,
    "version_minor": 0
   }
  }
 },
 "nbformat": 4,
 "nbformat_minor": 4
}
